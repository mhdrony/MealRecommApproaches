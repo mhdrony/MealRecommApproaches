{
 "cells": [
  {
   "cell_type": "code",
   "execution_count": 1,
   "metadata": {},
   "outputs": [],
   "source": [
    "import pandas as pd\n",
    "import numpy as np\n",
    "import os\n",
    "import json\n",
    "from pandas.io.json import json_normalize"
   ]
  },
  {
   "cell_type": "code",
   "execution_count": 36,
   "metadata": {},
   "outputs": [],
   "source": [
    "#f = open('C:\\\\Users\\\\non_coder\\\\Desktop\\\\datasets_fldr\\split_data.json',)\n",
    "#data = json.load(f) \n",
    "#for i in data['ingredients']: \n",
    "    #print(i) \n",
    "d_set = pd.read_csv(\"C:\\\\Users\\\\non_coder\\\\Desktop\\\\thesis\\cuisine.csv\", nrows=100)"
   ]
  },
  {
   "cell_type": "code",
   "execution_count": 37,
   "metadata": {},
   "outputs": [
    {
     "name": "stdout",
     "output_type": "stream",
     "text": [
      "chicken\n",
      "cane_molasses\n",
      "butter\n",
      "olive_oil\n",
      "honey\n",
      "tomato\n",
      "wheat\n",
      "olive_oil\n",
      "tomato\n",
      "banana\n",
      "cardamom\n",
      "lamb\n",
      "chicken\n",
      "tomato\n",
      "butter\n",
      "olive_oil\n",
      "coriander\n",
      "lemon_juice\n",
      "butter\n",
      "coriander\n",
      "cane_molasses\n",
      "coriander\n",
      "tomato\n",
      "tomato\n",
      "chicken_broth\n",
      "coriander\n",
      "tomato\n",
      "wheat\n",
      "coriander\n",
      "wheat\n",
      "butter\n",
      "coriander\n",
      "tomato\n",
      "tomato\n",
      "peanut_oil\n",
      "lamb\n",
      "olive_oil\n",
      "tomato\n",
      "tomato\n",
      "butter\n",
      "butter\n",
      "tomato\n",
      "rose\n",
      "tomato\n",
      "lemon\n",
      "tomato\n",
      "tomato\n",
      "cilantro\n",
      "olive_oil\n",
      "rose\n",
      "mustard\n",
      "lamb\n",
      "coriander\n",
      "lamb\n",
      "coriander\n",
      "olive_oil\n",
      "olive_oil\n",
      "olive_oil\n",
      "tomato\n",
      "vegetable_oil\n",
      "coriander\n",
      "olive_oil\n",
      "cheese\n",
      "lamb\n",
      "lemon_juice\n",
      "lamb\n",
      "lamb\n",
      "tomato\n",
      "butter\n",
      "tomato\n",
      "tomato\n",
      "pepper\n",
      "lemon_juice\n",
      "butter\n",
      "coriander\n",
      "butter\n",
      "tomato\n",
      "tomato\n",
      "butter\n",
      "tomato\n",
      "olive_oil\n",
      "lamb\n",
      "tomato\n",
      "olive_oil\n",
      "coriander\n",
      "tomato\n",
      "tomato\n",
      "butter\n",
      "coriander\n",
      "olive_oil\n",
      "tomato\n",
      "pepper\n",
      "olive_oil\n",
      "tomato\n",
      "coriander\n",
      "cardamom\n",
      "lamb\n",
      "mace\n",
      "coriander\n",
      "butter\n"
     ]
    }
   ],
   "source": [
    "for i in d_set['ingredients']:\n",
    "    print(i)"
   ]
  },
  {
   "cell_type": "code",
   "execution_count": 38,
   "metadata": {},
   "outputs": [],
   "source": [
    "from sklearn.feature_extraction.text import TfidfVectorizer\n",
    "from sklearn.cluster import KMeans\n",
    "tf = TfidfVectorizer(analyzer = 'word',ngram_range = (1,2),min_df = 0,stop_words = 'english')"
   ]
  },
  {
   "cell_type": "code",
   "execution_count": 40,
   "metadata": {},
   "outputs": [
    {
     "data": {
      "text/html": [
       "<div>\n",
       "<style scoped>\n",
       "    .dataframe tbody tr th:only-of-type {\n",
       "        vertical-align: middle;\n",
       "    }\n",
       "\n",
       "    .dataframe tbody tr th {\n",
       "        vertical-align: top;\n",
       "    }\n",
       "\n",
       "    .dataframe thead th {\n",
       "        text-align: right;\n",
       "    }\n",
       "</style>\n",
       "<table border=\"1\" class=\"dataframe\">\n",
       "  <thead>\n",
       "    <tr style=\"text-align: right;\">\n",
       "      <th></th>\n",
       "      <th>ingredients</th>\n",
       "    </tr>\n",
       "  </thead>\n",
       "  <tbody>\n",
       "    <tr>\n",
       "      <th>0</th>\n",
       "      <td>chicken</td>\n",
       "    </tr>\n",
       "    <tr>\n",
       "      <th>1</th>\n",
       "      <td>cane_molasses</td>\n",
       "    </tr>\n",
       "    <tr>\n",
       "      <th>2</th>\n",
       "      <td>butter</td>\n",
       "    </tr>\n",
       "    <tr>\n",
       "      <th>3</th>\n",
       "      <td>olive_oil</td>\n",
       "    </tr>\n",
       "    <tr>\n",
       "      <th>4</th>\n",
       "      <td>honey</td>\n",
       "    </tr>\n",
       "    <tr>\n",
       "      <th>...</th>\n",
       "      <td>...</td>\n",
       "    </tr>\n",
       "    <tr>\n",
       "      <th>95</th>\n",
       "      <td>cardamom</td>\n",
       "    </tr>\n",
       "    <tr>\n",
       "      <th>96</th>\n",
       "      <td>lamb</td>\n",
       "    </tr>\n",
       "    <tr>\n",
       "      <th>97</th>\n",
       "      <td>mace</td>\n",
       "    </tr>\n",
       "    <tr>\n",
       "      <th>98</th>\n",
       "      <td>coriander</td>\n",
       "    </tr>\n",
       "    <tr>\n",
       "      <th>99</th>\n",
       "      <td>butter</td>\n",
       "    </tr>\n",
       "  </tbody>\n",
       "</table>\n",
       "<p>100 rows × 1 columns</p>\n",
       "</div>"
      ],
      "text/plain": [
       "      ingredients\n",
       "0         chicken\n",
       "1   cane_molasses\n",
       "2          butter\n",
       "3       olive_oil\n",
       "4           honey\n",
       "..            ...\n",
       "95       cardamom\n",
       "96           lamb\n",
       "97           mace\n",
       "98      coriander\n",
       "99         butter\n",
       "\n",
       "[100 rows x 1 columns]"
      ]
     },
     "execution_count": 40,
     "metadata": {},
     "output_type": "execute_result"
    }
   ],
   "source": [
    "df = pd.DataFrame(d_set['ingredients'])\n",
    "df"
   ]
  },
  {
   "cell_type": "code",
   "execution_count": 43,
   "metadata": {},
   "outputs": [],
   "source": [
    "x = TfidfVectorizer().fit_transform(df.ingredients)\n",
    "km = KMeans(n_clusters=4).fit(x)\n",
    "clusters = km.labels_.tolist()"
   ]
  },
  {
   "cell_type": "code",
   "execution_count": 44,
   "metadata": {},
   "outputs": [
    {
     "name": "stdout",
     "output_type": "stream",
     "text": [
      "KMeans(n_clusters=4)\n"
     ]
    }
   ],
   "source": []
  },
  {
   "cell_type": "code",
   "execution_count": null,
   "metadata": {},
   "outputs": [],
   "source": []
  },
  {
   "cell_type": "code",
   "execution_count": null,
   "metadata": {},
   "outputs": [],
   "source": []
  }
 ],
 "metadata": {
  "kernelspec": {
   "display_name": "Python 3",
   "language": "python",
   "name": "python3"
  },
  "language_info": {
   "codemirror_mode": {
    "name": "ipython",
    "version": 3
   },
   "file_extension": ".py",
   "mimetype": "text/x-python",
   "name": "python",
   "nbconvert_exporter": "python",
   "pygments_lexer": "ipython3",
   "version": "3.8.3"
  }
 },
 "nbformat": 4,
 "nbformat_minor": 4
}
