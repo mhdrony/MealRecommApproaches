{
 "cells": [
  {
   "cell_type": "code",
   "execution_count": 36,
   "metadata": {},
   "outputs": [
    {
     "name": "stdout",
     "output_type": "stream",
     "text": [
      "fsa_lights_per100g\n",
      "id\n",
      "ingredients\n",
      "instructions\n",
      "nutr_per_ingredient\n",
      "nutr_values_per100g\n",
      "partition\n",
      "quantity\n",
      "title\n",
      "unit\n",
      "url\n",
      "weight_per_ingr\n"
     ]
    }
   ],
   "source": [
    "import numpy as np\n",
    "import pandas as pd\n",
    "import json\n",
    "import matplotlib.pyplot as plt\n",
    "from sklearn.datasets import make_blobs\n",
    "\n",
    "fd_set = open('C:\\\\Users\\\\non_coder\\\\Desktop\\\\datasets_fldr\\\\split_data.json',)\n",
    "data = json.load(fd_set)\n",
    "for i in data:\n",
    "    print(i)"
   ]
  },
  {
   "cell_type": "code",
   "execution_count": 51,
   "metadata": {},
   "outputs": [],
   "source": [
    "dataset = make_blobs(n_samples = 50,\n",
    "                    centers= 4,\n",
    "                    n_features=2,\n",
    "                    cluster_std=1.6,\n",
    "                    random_state=10)"
   ]
  },
  {
   "cell_type": "code",
   "execution_count": 53,
   "metadata": {},
   "outputs": [],
   "source": [
    "points = dataset[0]\n",
    "from pandas import DataFrame\n",
    "\n",
    "df = DataFrame(dataset, columns= ['ingredients',])\n",
    "#print(df)"
   ]
  },
  {
   "cell_type": "code",
   "execution_count": 54,
   "metadata": {},
   "outputs": [],
   "source": [
    "from sklearn.cluster import KMeans"
   ]
  },
  {
   "cell_type": "code",
   "execution_count": 55,
   "metadata": {},
   "outputs": [],
   "source": [
    "kmeans = KMeans(n_clusters=4)"
   ]
  },
  {
   "cell_type": "code",
   "execution_count": 56,
   "metadata": {},
   "outputs": [
    {
     "data": {
      "text/plain": [
       "KMeans(n_clusters=4)"
      ]
     },
     "execution_count": 56,
     "metadata": {},
     "output_type": "execute_result"
    }
   ],
   "source": [
    "kmeans.fit(points)"
   ]
  },
  {
   "cell_type": "code",
   "execution_count": 57,
   "metadata": {},
   "outputs": [
    {
     "data": {
      "text/plain": [
       "<matplotlib.collections.PathCollection at 0x1a24e27e160>"
      ]
     },
     "execution_count": 57,
     "metadata": {},
     "output_type": "execute_result"
    },
    {
     "data": {
      "image/png": "[encoded data removed]",
      "text/plain": [
       "<Figure size 432x288 with 1 Axes>"
      ]
     },
     "metadata": {
      "needs_background": "light"
     },
     "output_type": "display_data"
    }
   ],
   "source": [
    "plt.scatter(dataset[0][:,0], dataset[0][:,1])"
   ]
  },
  {
   "cell_type": "code",
   "execution_count": 58,
   "metadata": {
    "scrolled": true
   },
   "outputs": [
    {
     "name": "stdout",
     "output_type": "stream",
     "text": [
      "[[ 5.33865233 -8.91519632]\n",
      " [ 3.27742342  4.96123535]\n",
      " [-6.11884115  4.24402938]\n",
      " [ 0.13505262 -5.25692639]]\n"
     ]
    }
   ],
   "source": [
    "clusters = kmeans.cluster_centers_\n",
    "print(clusters)"
   ]
  },
  {
   "cell_type": "code",
   "execution_count": 59,
   "metadata": {},
   "outputs": [
    {
     "data": {
      "text/plain": [
       "array([1, 2, 2, 2, 1, 0, 0, 2, 0, 0, 0, 0, 2, 2, 1, 1, 0, 1, 2, 0, 1, 3,\n",
       "       2, 3, 1, 1, 2, 1, 2, 3, 2, 3, 2, 3, 3, 0, 0, 3, 3, 1, 3, 3, 0, 3,\n",
       "       1, 2, 3, 3, 0, 1])"
      ]
     },
     "execution_count": 59,
     "metadata": {},
     "output_type": "execute_result"
    }
   ],
   "source": [
    "y_km = kmeans.fit_predict(points)\n",
    "y_km"
   ]
  },
  {
   "cell_type": "code",
   "execution_count": 60,
   "metadata": {},
   "outputs": [
    {
     "data": {
      "text/plain": [
       "<matplotlib.collections.PathCollection at 0x1a24e2e3670>"
      ]
     },
     "execution_count": 60,
     "metadata": {},
     "output_type": "execute_result"
    },
    {
     "data": {
      "image/png": "[encoded data removed]",
      "text/plain": [
       "<Figure size 432x288 with 1 Axes>"
      ]
     },
     "metadata": {
      "needs_background": "light"
     },
     "output_type": "display_data"
    }
   ],
   "source": [
    "plt.scatter(points[y_km == 0,0], points[y_km == 0,1], s=25, color='red')\n",
    "plt.scatter(points[y_km == 1,0], points[y_km == 1,1], s=25, color='blue')\n",
    "plt.scatter(points[y_km == 2,0], points[y_km == 2,1], s=25, color='yellow')\n",
    "plt.scatter(points[y_km == 3,0], points[y_km == 3,1], s=25, color='green')"
   ]
  },
  {
   "cell_type": "code",
   "execution_count": null,
   "metadata": {},
   "outputs": [],
   "source": []
  },
  {
   "cell_type": "code",
   "execution_count": null,
   "metadata": {},
   "outputs": [],
   "source": []
  }
 ],
 "metadata": {
  "kernelspec": {
   "display_name": "Python 3",
   "language": "python",
   "name": "python3"
  },
  "language_info": {
   "codemirror_mode": {
    "name": "ipython",
    "version": 3
   },
   "file_extension": ".py",
   "mimetype": "text/x-python",
   "name": "python",
   "nbconvert_exporter": "python",
   "pygments_lexer": "ipython3",
   "version": "3.8.3"
  }
 },
 "nbformat": 4,
 "nbformat_minor": 4
}
