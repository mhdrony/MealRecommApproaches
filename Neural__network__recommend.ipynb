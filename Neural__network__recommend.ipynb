{
  "nbformat": 4,
  "nbformat_minor": 0,
  "metadata": {
    "colab": {
      "provenance": []
    },
    "kernelspec": {
      "name": "python3",
      "display_name": "Python 3"
    },
    "language_info": {
      "name": "python"
    }
  },
  "cells": [
    {
      "cell_type": "code",
      "execution_count": null,
      "metadata": {
        "id": "qN-d-InG_ZHZ"
      },
      "outputs": [],
      "source": [
        "import pandas as pd\n",
        "import numpy as np\n",
        "# first neural network with keras tutorial\n",
        "from numpy import loadtxt\n",
        "from sklearn.model_selection import train_test_split\n",
        "from sklearn.tree import DecisionTreeClassifier\n",
        "from sklearn.metrics import confusion_matrix\n",
        "from keras.models import Sequential\n",
        "from keras.layers import Dense\n",
        "import matplotlib.pyplot as plt"
      ]
    },
    {
      "cell_type": "code",
      "source": [
        "#data= pd.read_csv('/content/drive/MyDrive/Expert-Opinion.csv')\n",
        "data = pd.read_csv('/content/drive/MyDrive/data_1000.csv',nrows = 1000)\n",
        "#data = pd.read_csv('/content/drive/MyDrive/Expert_opinion_1000.csv')\n",
        "dataset = data.drop(['Title'], axis=1)"
      ],
      "metadata": {
        "id": "pPPJvDXf_aut"
      },
      "execution_count": null,
      "outputs": []
    },
    {
      "cell_type": "code",
      "source": [
        "import seaborn as sns\n",
        "dataset['remarks'].value_counts().plot(kind='bar')\n",
        "#input and output variables\n",
        "X = dataset.iloc[:,0:6]\n",
        "Y = dataset.iloc[:,6]"
      ],
      "metadata": {
        "id": "ek_fptpJ_k78"
      },
      "execution_count": null,
      "outputs": []
    },
    {
      "cell_type": "code",
      "source": [
        "X"
      ],
      "metadata": {
        "id": "Os2QtqW57ysD"
      },
      "execution_count": null,
      "outputs": []
    },
    {
      "cell_type": "code",
      "source": [
        "from sklearn.model_selection import cross_val_score\n",
        "from sklearn.model_selection import cross_val_score,KFold\n",
        "from sklearn.linear_model import LogisticRegression\n",
        "\n",
        "logreg=LogisticRegression()\n",
        "kf=KFold(n_splits=5)\n",
        "score=cross_val_score(logreg,X,Y,cv=kf)\n",
        "print(\"Cross Validation Scores are {}\".format(score))\n",
        "print(\"Average Cross Validation score :{}\".format(score.mean()))"
      ],
      "metadata": {
        "colab": {
          "base_uri": "https://localhost:8080/"
        },
        "id": "pw-RPDQX_uF8",
        "outputId": "c0cb733c-2c43-4002-9f8c-03581c3f4062"
      },
      "execution_count": null,
      "outputs": [
        {
          "output_type": "stream",
          "name": "stdout",
          "text": [
            "Cross Validation Scores are [0.73  0.785 0.805 0.77  0.78 ]\n",
            "Average Cross Validation score :0.774\n"
          ]
        }
      ]
    },
    {
      "cell_type": "code",
      "source": [
        "#create train and testing vars\n",
        "X_train, X_test, Y_train, Y_test = train_test_split(X, Y, test_size=.1)\n",
        "print(X_train.shape, Y_train.shape)\n",
        "print(X_test.shape, Y_test.shape)"
      ],
      "metadata": {
        "colab": {
          "base_uri": "https://localhost:8080/"
        },
        "id": "oildIJyN_uHG",
        "outputId": "c9438f19-b60c-415d-9a84-08e54e0c0de1"
      },
      "execution_count": null,
      "outputs": [
        {
          "output_type": "stream",
          "name": "stdout",
          "text": [
            "(900, 6) (900,)\n",
            "(100, 6) (100,)\n"
          ]
        }
      ]
    },
    {
      "cell_type": "code",
      "source": [
        "from sklearn.preprocessing import StandardScaler\n",
        "sc = StandardScaler()\n",
        "X_train = sc.fit_transform(X_train)\n",
        "X_test = sc.transform(X_test)"
      ],
      "metadata": {
        "id": "XYkNpgol_uLJ"
      },
      "execution_count": null,
      "outputs": []
    },
    {
      "cell_type": "code",
      "source": [
        "# define the keras model layer by layer\n",
        "from tensorflow.keras.layers import Dense\n",
        "from tensorflow.keras.models import Sequential\n",
        "from tensorflow.keras import initializers\n",
        "\n",
        "model = Sequential()\n",
        "model.add(Dense(12, input_dim=6, activation='relu'))\n",
        "model.add(Dense(8, activation='relu'))\n",
        "model.add(Dense(4, activation='relu'))\n",
        "model.add(Dense(1,  activation='sigmoid'))\n"
      ],
      "metadata": {
        "id": "mZQ45ysl_6GL"
      },
      "execution_count": null,
      "outputs": []
    },
    {
      "cell_type": "code",
      "source": [
        "# compile the keras model\n",
        "model.compile(loss='binary_crossentropy', optimizer='adam', metrics=['accuracy'])"
      ],
      "metadata": {
        "id": "dpNRa84A_6Hz"
      },
      "execution_count": null,
      "outputs": []
    },
    {
      "cell_type": "code",
      "source": [
        " # fit the keras model on the dataset\n",
        "history = model.fit(X_train, Y_train, epochs=200, batch_size=10, validation_data=(X_test,Y_test))"
      ],
      "metadata": {
        "id": "nIoUJ9kF_6K9"
      },
      "execution_count": null,
      "outputs": []
    },
    {
      "cell_type": "code",
      "source": [
        "# evaluate the keras model\n",
        "_, accuracy = model.evaluate(X_train, Y_train)\n",
        "print('Train_Accuracy: %.2f' % (accuracy*100))"
      ],
      "metadata": {
        "colab": {
          "base_uri": "https://localhost:8080/"
        },
        "id": "7hEa21e4_6OD",
        "outputId": "37ec7ad3-94a6-406c-8729-a89a1bc474bc"
      },
      "execution_count": null,
      "outputs": [
        {
          "output_type": "stream",
          "name": "stdout",
          "text": [
            "29/29 [==============================] - 0s 2ms/step - loss: 0.3074 - accuracy: 0.8567\n",
            "Train_Accuracy: 85.67\n"
          ]
        }
      ]
    },
    {
      "cell_type": "code",
      "source": [
        "# evaluate the keras model\n",
        "_, accuracy = model.evaluate(X_test, Y_test)\n",
        "print('Test_Accuracy: %.2f' % (accuracy*100))"
      ],
      "metadata": {
        "colab": {
          "base_uri": "https://localhost:8080/"
        },
        "id": "GBpKv5zq_6g4",
        "outputId": "552fab28-9a23-4c49-e763-9f6ed7333b3c"
      },
      "execution_count": null,
      "outputs": [
        {
          "output_type": "stream",
          "name": "stdout",
          "text": [
            "4/4 [==============================] - 0s 4ms/step - loss: 0.4286 - accuracy: 0.7800\n",
            "Test_Accuracy: 78.00\n"
          ]
        }
      ]
    }
  ]
}